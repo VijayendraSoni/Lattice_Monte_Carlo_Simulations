{
 "cells": [
  {
   "cell_type": "code",
   "execution_count": 5,
   "metadata": {},
   "outputs": [],
   "source": [
    "import numpy as np\n",
    "import matplotlib.pyplot as plt\n",
    "from decimal import Decimal as d10\n",
    "\n",
    "#Counters, flags\n",
    "N = 32 #number of atoms for simulation\n",
    "ovlp = 0 #atomic overlap flag\n",
    "c, naccept, nt = 0, 0, 0 #counters\n",
    "nadjst = 1000\n",
    "max_trials = 1000000\n",
    "max_states = int(0.6 * max_trials) #for initializing storing arrays\n",
    "\n",
    "#Variables\n",
    "sig = 0.34 #(in nm) max range(distance) of LJ\n",
    "sigsq = sig**2.\n",
    "rcut = sig #(in nm) LJ interactions to be considered only inside rcut\n",
    "rcutsq = sigsq\n",
    "ratom = 0.071 #(in nm) radius of atom\n",
    "ratomsq = ratom**2.\n",
    "drmax = ratom #(in nm) max distance an atom can move\n",
    "bl = 8. * ratom #(in nm) box-length\n",
    "\n",
    "#Constants\n",
    "epslon = d10(1.65684 * 1e-23) #...*from book, for Argon\n",
    "beta = d10(9.053378720938 * 1e20) #...*from book, for Argon, and temp 80K (liquid argon)\n",
    "\n",
    "#Arrays for storing coordinates of centres of atoms and potential\n",
    "rx, ry, rz, r_x, r_y, r_z = [], [], [], [], [], [] #atomic coordinates\n",
    "#----supply initial positions----\n",
    "a = np.linspace(0, bl-4*ratom, 2)\n",
    "b = np.linspace(2*ratom, bl-2*ratom, 2)\n",
    "z = 0.\n",
    "for k in range(4):\n",
    "    if (k % 2 == 0):\n",
    "        for j in range(2):\n",
    "            for i in range(2):\n",
    "                rx.append(a[i])\n",
    "                ry.append(a[j])\n",
    "        for j in range(2):\n",
    "            for i in range(2):\n",
    "                rx.append(b[i])\n",
    "                ry.append(b[j])\n",
    "    else:\n",
    "        for j in range(2):\n",
    "            for i in range(2):\n",
    "                rx.append(b[i])\n",
    "                ry.append(a[j])\n",
    "        for j in range(2):\n",
    "            for i in range(2):\n",
    "                rx.append(a[i])\n",
    "                ry.append(b[j]) \n",
    "    for i in range(8):\n",
    "        rz.append(z)\n",
    "    z = z + 2*ratom\n",
    "#--------------------------------\n",
    "#store simulated states as revl[accepted_state][coordinates]\n",
    "rxevl, ryevl, rzevl = np.zeros((max_states, N)), np.zeros((max_states, N)), np.zeros((max_states, N)) #evolution of atomic coordinates\n",
    "rxevl[0], ryevl[0], rzevl[0] = rx, ry, rz\n",
    "Varr = []\n",
    "drmaxarr = []"
   ]
  },
  {
   "cell_type": "code",
   "execution_count": 6,
   "metadata": {},
   "outputs": [],
   "source": [
    "#Function definitions\n",
    "\n",
    "def LJ(r_x, r_y, r_z): #calculates Lennard-Jones(LJ) interaction potential \n",
    "    V = d10(0.0)\n",
    "    for i in range(N-1):\n",
    "        rxi = r_x[i]\n",
    "        ryi = r_y[i]\n",
    "        rzi = r_z[i]\n",
    "        for j in range(i+1, N):\n",
    "            rxij = rxi - r_x[j]\n",
    "            ryij = ryi - r_y[j]\n",
    "            rzij = rzi - r_z[j]\n",
    "            rijsq = rxij**2. + ryij**2. + rzij**2.\n",
    "            if (rijsq > rcutsq): continue\n",
    "            sr2 = d10(sigsq)/d10(rijsq) #decimal\n",
    "            sr6 = sr2*sr2*sr2\n",
    "            sr12 = sr6*sr6\n",
    "            V = V + sr12 - sr6\n",
    "    V = d10(4) * epslon * V\n",
    "    return V\n",
    "\n",
    "def V_k(k, r_x, r_y, r_z, r_xk, r_yk, r_zk): #calculates LJ potential for k-th atom.\n",
    "    Vk = d10(0.0) \n",
    "    for i in range(N):\n",
    "        if (i == k): continue\n",
    "        rxij = r_x[i] - r_xk\n",
    "        ryij = r_y[i] - r_yk\n",
    "        rzij = r_z[i] - r_zk\n",
    "        rijsq = rxij**2. + ryij**2. + rzij**2.\n",
    "        if (rijsq > rcutsq): continue\n",
    "        sr2 = d10(sigsq)/d10(rijsq) #decimal\n",
    "        sr6 = sr2*sr2*sr2\n",
    "        sr12 = sr6*sr6\n",
    "        Vk = Vk + sr12 - sr6\n",
    "    Vk = d10(4) * epslon * Vk\n",
    "    return Vk\n",
    "\n",
    "def ovlp_check(k_, rxkn_, rykn_, rzkn_, ovlp): #checks if new (x,y,z) of k-th atom causes interatomic overlap, sets flag ovlp if there is overlap\n",
    "    for i in range(N):\n",
    "        if (i == k_): continue\n",
    "        rsq = (rx[i] - rxkn_)**2. + (ry[i] - rykn_)**2. + (rz[i] - rzkn_)**2.\n",
    "        if (rsq < 4. * ratomsq):\n",
    "            ovlp = 1 #set flag if new state causes atomic overlap\n",
    "            break\n",
    "    return ovlp        "
   ]
  },
  {
   "cell_type": "code",
   "execution_count": 7,
   "metadata": {
    "scrolled": false
   },
   "outputs": [
    {
     "name": "stdout",
     "output_type": "stream",
     "text": [
      "Number of values that cause no atomic overlap = 51650\n",
      "Number of accepted values = 877\n",
      "Acceptance Ratio = 0.00877\n",
      "drmax = 0.071\n",
      "Done!\n"
     ]
    }
   ],
   "source": [
    "#main body\n",
    "\n",
    "V = LJ(rx, ry, rz)\n",
    "Varr.append(V)\n",
    "np.random.seed(0)\n",
    "\n",
    "for ntrial in range(max_trials):\n",
    "    kk = np.random.randint(0, N) #select random k-th atom for changing state\n",
    "    random2 = 2 * np.random.rand(3) #select 3 random increments for (x,y,z) of k's atomic coordinates.\n",
    "    rxk, ryk, rzk = rx[kk], ry[kk], rz[kk] #save current coordinates of k.\n",
    "    rxkn = rx[kk] + (random2[0] - 1.) * drmax\n",
    "    rykn = ry[kk] + (random2[1] - 1.) * drmax\n",
    "    rzkn = rz[kk] + (random2[2] - 1.) * drmax\n",
    "    #----check if new state satisfies boundary conditions and doesn't cause atomic overlap----\n",
    "    if (rxkn<0): rxkn = bl + rxkn   #If atom goes beyond one boundary,\n",
    "    if (rykn<0): rykn = bl + rykn   #make it return from opposite boundary.\n",
    "    if (rzkn<0): rzkn = bl + rzkn   #This makes the system infinite.\n",
    "    if (rxkn>bl): rxkn = r.;xkn - bl\n",
    "    if (rykn>bl): rykn = rykn - bl\n",
    "    if (rzkn>bl): rzkn = rzkn - bl\n",
    "    ovlp = ovlp_check(kk, rxkn, rykn, rzkn, ovlp) #check if interatomic overlap due to new (x,y,z) of k-th atom\n",
    "    if (ovlp == 1): #check status of flag\n",
    "        ovlp = 0 #reset flag\n",
    "        continue #regenerate new state\n",
    "    #-----------------------------------------------------------------------------------------\n",
    "    c += 1 #Number of values that do not cause atomic overlap\n",
    "    V_old = V_k(kk, rx, ry, rz, rx[kk], ry[kk], rz[kk]) #LJ potential for k-th atom of old state\n",
    "    V_new = V_k(kk, rx, ry, rz, rxkn, rykn, rzkn) #LJ potential for k-th atom of new state\n",
    "    dV = V_new - V_old\n",
    "    dVB = beta * dV\n",
    "    if (dVB < 75): #threshold\n",
    "        #--------MC Metropolis--------\n",
    "        if (dVB < 0):\n",
    "            V = V + dV\n",
    "            rx[kk], ry[kk], rz[kk] = rxkn, rykn, rzkn #accept the new state and store it as current state\n",
    "            naccept += 1    #counts number of accepted values, starts recounting if drmax is changed\n",
    "            nt += 1         #counts total accepted values, needed when using nadjst to adjust drmax every nadjst trials\n",
    "            Varr.append(V)\n",
    "            rxevl[nt], ryevl[nt], rzevl[nt] = rx, ry, rz\n",
    "        elif (np.exp(-dVB) > np.random.rand()):\n",
    "            V = V + dV\n",
    "            rx[kk], ry[kk], rz[kk] = rxkn, rykn, rzkn\n",
    "            naccept += 1\n",
    "            nt += 1\n",
    "            Varr.append(V)\n",
    "            rxevl[nt], ryevl[nt], rzevl[nt] = rx, ry, rz\n",
    "        #-----------------------------\n",
    "    '''if (ntrial % nadjst == 0): #adjust drmax every nadjst\n",
    "        ratio = float(naccept)/float(nadjst)\n",
    "        if (ratio > 0.5): drmax = drmax * 1.05\n",
    "        else: drmax = drmax * 0.95\n",
    "        drmaxarr.append(drmax)\n",
    "        naccept = 0'''\n",
    "\n",
    "print 'Number of values that cause no atomic overlap = ' + str(c)\n",
    "print 'Number of accepted values = ' + str(nt)\n",
    "acr = float(float(nt)/float(max_trials))\n",
    "print 'Acceptance Ratio = ' + str(acr)\n",
    "print 'drmax = ' + str(drmax)\n",
    "print 'Done!'"
   ]
  },
  {
   "cell_type": "code",
   "execution_count": 8,
   "metadata": {},
   "outputs": [
    {
     "name": "stdout",
     "output_type": "stream",
     "text": [
      "Enter the simulated state to plot (initial state is 0, 1st simulated state is 1,... maximum is 877): 877\n"
     ]
    },
    {
     "name": "stderr",
     "output_type": "stream",
     "text": [
      "/home/pallav/.local/lib/python2.7/site-packages/matplotlib/figure.py:457: UserWarning: matplotlib is currently using a non-GUI backend, so cannot show the figure\n",
      "  \"matplotlib is currently using a non-GUI backend, \"\n"
     ]
    },
    {
     "data": {
      "image/png": "[encoded data removed]",
      "text/plain": [
       "<Figure size 432x288 with 1 Axes>"
      ]
     },
     "metadata": {
      "needs_background": "light"
     },
     "output_type": "display_data"
    }
   ],
   "source": [
    "#Plot positions of atoms in simulated states\n",
    "state = int(input('Enter the simulated state to plot (initial state is 0, 1st simulated state is 1,... maximum is %d): ' % (nt)))\n",
    "from mpl_toolkits.mplot3d import Axes3D\n",
    "fig = plt.figure()\n",
    "ax = fig.add_subplot(111, projection='3d')\n",
    "ax = plt.axes(projection='3d')\n",
    "ax.scatter3D(rxevl[state], ryevl[state], rzevl[state])\n",
    "fig.show()"
   ]
  },
  {
   "cell_type": "code",
   "execution_count": null,
   "metadata": {},
   "outputs": [],
   "source": [
    "#Plot positions of atoms in simulated states\n",
    "state = int(input('Enter the simulated state to plot (initial state is 0, 1st simulated state is 1,... maximum is %d): ' % (nt)))\n",
    "from mpl_toolkits.mplot3d import Axes3D\n",
    "fig = plt.figure()\n",
    "ax = fig.add_subplot(111, projection='3d')\n",
    "ax = plt.axes(projection='3d')\n",
    "ax.scatter3D(rxevl[state], ryevl[state], rzevl[state])\n",
    "fig.show()"
   ]
  },
  {
   "cell_type": "code",
   "execution_count": 9,
   "metadata": {},
   "outputs": [
    {
     "name": "stdout",
     "output_type": "stream",
     "text": [
      "3.820362061457651945331667957E-18 1.581755576182056527114373636E-19\n"
     ]
    },
    {
     "data": {
      "image/png": "[encoded data removed]",
      "text/plain": [
       "<Figure size 432x288 with 1 Axes>"
      ]
     },
     "metadata": {
      "needs_background": "light"
     },
     "output_type": "display_data"
    }
   ],
   "source": [
    "#Plot LJ Potential variation throughout the simulation\n",
    "print max(Varr), np.min(Varr)\n",
    "plt.plot(Varr)\n",
    "plt.xlim(0, nt) #skip initial states as they have high correlations and are dependent on input coordinates\n",
    "plt.ylim(1.0*1e-19, 2.5*1e-19)\n",
    "plt.show()"
   ]
  },
  {
   "cell_type": "code",
   "execution_count": 10,
   "metadata": {},
   "outputs": [
    {
     "data": {
      "image/png": "[encoded data removed]",
      "text/plain": [
       "<Figure size 432x288 with 1 Axes>"
      ]
     },
     "metadata": {
      "needs_background": "light"
     },
     "output_type": "display_data"
    }
   ],
   "source": [
    "#Plot drmax variation when using nadjst\n",
    "plt.plot(drmaxarr)\n",
    "plt.show()"
   ]
  },
  {
   "cell_type": "code",
   "execution_count": 72,
   "metadata": {},
   "outputs": [
    {
     "name": "stdout",
     "output_type": "stream",
     "text": [
      "Was nadjst used for adjusting drmax every nadjst trials? (Input: 1 if Yes, 0 if No): 1\n",
      "Okay! Saved!\n"
     ]
    }
   ],
   "source": [
    "#Save array files\n",
    "adjust = int(input('Was nadjst used for adjusting drmax every nadjst trials? (Input: 1 if Yes, 0 if No): '))\n",
    "if (adjust == 1): change = '_adjust'\n",
    "else: change = ''\n",
    "np.savez('%s_atoms_in_a_box_%.2fnm%s.npz' % (N, bl, change),\n",
    "         adjust = adjust,\n",
    "         rxevl = rxevl[0:nt+1],\n",
    "         ryevl = ryevl[0:nt+1],\n",
    "         rzevl = rzevl[0:nt+1],\n",
    "         Varr = Varr,\n",
    "         acr = acr,\n",
    "         drmaxarr = drmaxarr\n",
    "         )\n",
    "print 'Okay! Saved!'"
   ]
  },
  {
   "cell_type": "code",
   "execution_count": null,
   "metadata": {},
   "outputs": [],
   "source": [
    "#Load array files\n",
    "array = np.load('64_atoms_in_a_box_0.99nm.npz')\n",
    "rxevl = array['rxevl']\n",
    "ryevl = array['ryevl']\n",
    "rzevl = array['rzevl']\n",
    "Varr = array['Varr']\n",
    "acr = array['acr']\n",
    "adjust = array['adjust']\n",
    "drmaxarr = array['drmaxarr']"
   ]
  },
  {
   "cell_type": "code",
   "execution_count": 82,
   "metadata": {},
   "outputs": [],
   "source": [
    "#Save final state to txt file for visualization through other software\n",
    "st = 40000\n",
    "file1 = open(\"%d_state.txt\" % (st), \"w\")\n",
    "for i in range(N):\n",
    "    file1.write(\"%.8f\\t%.8f\\t%.8f\\n\" % (rxevl[st][i], ryevl[st][i], rzevl[st][i]))\n",
    "file1.close()"
   ]
  },
  {
   "cell_type": "code",
   "execution_count": null,
   "metadata": {},
   "outputs": [],
   "source": []
  }
 ],
 "metadata": {
  "kernelspec": {
   "display_name": "Python 2",
   "language": "python",
   "name": "python2"
  },
  "language_info": {
   "codemirror_mode": {
    "name": "ipython",
    "version": 2
   },
   "file_extension": ".py",
   "mimetype": "text/x-python",
   "name": "python",
   "nbconvert_exporter": "python",
   "pygments_lexer": "ipython2",
   "version": "2.7.17"
  }
 },
 "nbformat": 4,
 "nbformat_minor": 2
}
